{
 "cells": [
  {
   "cell_type": "code",
   "execution_count": 5,
   "metadata": {},
   "outputs": [],
   "source": [
    "import pandas as pd\n",
    "import numpy as np\n",
    "import random"
   ]
  },
  {
   "cell_type": "code",
   "execution_count": 33,
   "metadata": {},
   "outputs": [],
   "source": [
    "df = pd.read_csv(\"soft_skills.csv\")"
   ]
  },
  {
   "cell_type": "code",
   "execution_count": 9,
   "metadata": {},
   "outputs": [
    {
     "data": {
      "text/plain": [
       "Index(['noun', 'adjective', 'alternate adjective', 'verb', 'skillset'], dtype='object')"
      ]
     },
     "execution_count": 9,
     "metadata": {},
     "output_type": "execute_result"
    }
   ],
   "source": [
    "df.columns"
   ]
  },
  {
   "cell_type": "code",
   "execution_count": 10,
   "metadata": {},
   "outputs": [
    {
     "data": {
      "text/html": [
       "<div>\n",
       "<style scoped>\n",
       "    .dataframe tbody tr th:only-of-type {\n",
       "        vertical-align: middle;\n",
       "    }\n",
       "\n",
       "    .dataframe tbody tr th {\n",
       "        vertical-align: top;\n",
       "    }\n",
       "\n",
       "    .dataframe thead th {\n",
       "        text-align: right;\n",
       "    }\n",
       "</style>\n",
       "<table border=\"1\" class=\"dataframe\">\n",
       "  <thead>\n",
       "    <tr style=\"text-align: right;\">\n",
       "      <th></th>\n",
       "      <th>noun</th>\n",
       "      <th>adjective</th>\n",
       "      <th>alternate adjective</th>\n",
       "      <th>verb</th>\n",
       "      <th>skillset</th>\n",
       "    </tr>\n",
       "  </thead>\n",
       "  <tbody>\n",
       "    <tr>\n",
       "      <th>0</th>\n",
       "      <td>good communicator</td>\n",
       "      <td>charismatic</td>\n",
       "      <td>NaN</td>\n",
       "      <td>communicate</td>\n",
       "      <td>communication</td>\n",
       "    </tr>\n",
       "    <tr>\n",
       "      <th>1</th>\n",
       "      <td>team player</td>\n",
       "      <td>helpful</td>\n",
       "      <td>NaN</td>\n",
       "      <td>work together</td>\n",
       "      <td>group work</td>\n",
       "    </tr>\n",
       "    <tr>\n",
       "      <th>2</th>\n",
       "      <td>problem solver</td>\n",
       "      <td>solutions-focused</td>\n",
       "      <td>results-oriented</td>\n",
       "      <td>solve problems</td>\n",
       "      <td>problem solving</td>\n",
       "    </tr>\n",
       "  </tbody>\n",
       "</table>\n",
       "</div>"
      ],
      "text/plain": [
       "                noun          adjective alternate adjective            verb  \\\n",
       "0  good communicator        charismatic                 NaN     communicate   \n",
       "1        team player            helpful                 NaN   work together   \n",
       "2     problem solver  solutions-focused    results-oriented  solve problems   \n",
       "\n",
       "          skillset  \n",
       "0    communication  \n",
       "1       group work  \n",
       "2  problem solving  "
      ]
     },
     "execution_count": 10,
     "metadata": {},
     "output_type": "execute_result"
    }
   ],
   "source": [
    "df.head(3)"
   ]
  },
  {
   "cell_type": "code",
   "execution_count": 7,
   "metadata": {},
   "outputs": [],
   "source": [
    "def get_word(kind):\n",
    "    word = str(df[kind].iloc[random.randint(1,57)])\n",
    "    while word.lower() == \"nan\":\n",
    "        word = str(df[kind].iloc[random.randint(1,57)])\n",
    "    else:\n",
    "        return(word)\n",
    "\n",
    "# The kind variable needs to be a column name ('noun', 'adjective', 'alternate adjective', 'verb', 'skillset')."
   ]
  },
  {
   "cell_type": "code",
   "execution_count": 30,
   "metadata": {},
   "outputs": [],
   "source": [
    "def position():\n",
    "    desired_position = input(\"What is the position you're applying for?\")\n",
    "    experience = input(\"Do you have experience? If yes, type y. If no, type n.\")\n",
    "    if experience.lower() == 'y':\n",
    "        years = input(\"How many years have you worked in this field?\")\n",
    "        return (f\"I'm an experienced {desired_position} with {years} years in the field\")\n",
    "    else:\n",
    "        return(f\"I'm an aspiring {desired_position}\")"
   ]
  },
  {
   "cell_type": "code",
   "execution_count": 31,
   "metadata": {},
   "outputs": [],
   "source": [
    "def construct_statement():\n",
    "    adj1 = get_word('adjective')\n",
    "    adj2 = get_word('adjective')\n",
    "    while adj1 == adj2:\n",
    "        adj2 = get_word('adjective')\n",
    "    noun = get_word('noun')\n",
    "    verb1 = get_word('verb')\n",
    "    verb2 = get_word('verb')\n",
    "    while verb1 == verb2:\n",
    "        verb2 = get_word('verb')\n",
    "    skillset1 = get_word('skillset')\n",
    "    skillset2 = get_word('skillset')\n",
    "    while skillset1 == skillset2:\n",
    "        skillset2 = get_word('skillset')\n",
    "    return(f\"{adj1.title()}, {adj2} {noun} who likes to {verb1} and {verb2}. {position()} who values {skillset1} and {skillset2}.\")"
   ]
  },
  {
   "cell_type": "code",
   "execution_count": 35,
   "metadata": {},
   "outputs": [
    {
     "data": {
      "text/plain": [
       "\"Enterprising, solutions-focused designer who likes to seek knowledge and manage people and projects. I'm an experienced astronaut with 10 years in the field who values innovation and leadership.\""
      ]
     },
     "execution_count": 35,
     "metadata": {},
     "output_type": "execute_result"
    }
   ],
   "source": [
    "construct_statement()"
   ]
  },
  {
   "cell_type": "code",
   "execution_count": null,
   "metadata": {},
   "outputs": [],
   "source": []
  }
 ],
 "metadata": {
  "interpreter": {
   "hash": "ad2bdc8ecc057115af97d19610ffacc2b4e99fae6737bb82f5d7fb13d2f2c186"
  },
  "kernelspec": {
   "display_name": "Python 3.9.7 ('base')",
   "language": "python",
   "name": "python3"
  },
  "language_info": {
   "codemirror_mode": {
    "name": "ipython",
    "version": 3
   },
   "file_extension": ".py",
   "mimetype": "text/x-python",
   "name": "python",
   "nbconvert_exporter": "python",
   "pygments_lexer": "ipython3",
   "version": "3.9.7"
  },
  "orig_nbformat": 4
 },
 "nbformat": 4,
 "nbformat_minor": 2
}
