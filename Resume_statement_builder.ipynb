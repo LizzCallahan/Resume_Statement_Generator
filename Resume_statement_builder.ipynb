{
 "cells": [
  {
   "cell_type": "code",
   "execution_count": 79,
   "metadata": {},
   "outputs": [],
   "source": [
    "import pandas as pd\n",
    "import numpy as np\n",
    "import random"
   ]
  },
  {
   "cell_type": "code",
   "execution_count": 80,
   "metadata": {},
   "outputs": [],
   "source": [
    "df = pd.read_csv(\"soft_skills.csv\")"
   ]
  },
  {
   "cell_type": "code",
   "execution_count": 81,
   "metadata": {},
   "outputs": [],
   "source": [
    "num_list = []"
   ]
  },
  {
   "cell_type": "code",
   "execution_count": 82,
   "metadata": {},
   "outputs": [],
   "source": [
    "def get_word(kind):\n",
    "    word = str(df[kind].iloc[get_num()])\n",
    "    while word.lower() == \"nan\":\n",
    "        word = str(df[kind].iloc[get_num()])\n",
    "    else:\n",
    "        return(word)\n",
    "\n",
    "# The kind variable needs to be a column name ('noun', 'adjective', 'alternate adjective', 'verb', 'skillset')."
   ]
  },
  {
   "cell_type": "code",
   "execution_count": 83,
   "metadata": {},
   "outputs": [],
   "source": [
    "def position():\n",
    "    desired_position = input(\"What is the position you're applying for?\")\n",
    "    experience = input(\"Do you have experience? If yes, type y. If no, type n.\")\n",
    "    if experience.lower() == 'y':\n",
    "        years = input(\"How many years have you worked in this field?\")\n",
    "        return (f\"I'm an experienced {desired_position} with {years} years in the field\")\n",
    "    else:\n",
    "        return(f\"I'm an aspiring {desired_position}\")"
   ]
  },
  {
   "cell_type": "code",
   "execution_count": 84,
   "metadata": {},
   "outputs": [],
   "source": [
    "def construct_statement():\n",
    "    adj1 = get_word('adjective')\n",
    "    adj2 = get_word('adjective')  \n",
    "\n",
    "    noun = get_word('noun')\n",
    "\n",
    "    verb1 = get_word('verb')\n",
    "    verb2 = get_word('verb')\n",
    "\n",
    "    skillset1 = get_word('skillset')\n",
    "    skillset2 = get_word('skillset')\n",
    "\n",
    "    return(f\"{adj1.title()}, {adj2} {noun} who likes to {verb1} and {verb2}. {position()} who excels at {skillset1} and {skillset2}.\")"
   ]
  },
  {
   "cell_type": "code",
   "execution_count": 85,
   "metadata": {},
   "outputs": [],
   "source": [
    "def get_num():\n",
    "    num = random.randint(1,57)\n",
    "    while num in num_list:\n",
    "        num = random.randint(1,57)\n",
    "    else:\n",
    "        num_list.append(num)\n",
    "    return num"
   ]
  },
  {
   "cell_type": "code",
   "execution_count": 86,
   "metadata": {},
   "outputs": [
    {
     "data": {
      "text/plain": [
       "\"Enthusiatic, ethical leader who likes to inspire the team and persuade. I'm an aspiring data analyst who excels at constructive criticism and logical thinking.\""
      ]
     },
     "execution_count": 86,
     "metadata": {},
     "output_type": "execute_result"
    }
   ],
   "source": [
    "construct_statement()"
   ]
  },
  {
   "cell_type": "markdown",
   "metadata": {},
   "source": [
    "To get another version, simply clear outputs and run all again. The random rows each word are pulled from get added to a list, so you may run out of options if you run without clearing."
   ]
  },
  {
   "cell_type": "markdown",
   "metadata": {},
   "source": []
  }
 ],
 "metadata": {
  "interpreter": {
   "hash": "ad2bdc8ecc057115af97d19610ffacc2b4e99fae6737bb82f5d7fb13d2f2c186"
  },
  "kernelspec": {
   "display_name": "Python 3.9.7 ('base')",
   "language": "python",
   "name": "python3"
  },
  "language_info": {
   "codemirror_mode": {
    "name": "ipython",
    "version": 3
   },
   "file_extension": ".py",
   "mimetype": "text/x-python",
   "name": "python",
   "nbconvert_exporter": "python",
   "pygments_lexer": "ipython3",
   "version": "3.9.7"
  },
  "orig_nbformat": 4
 },
 "nbformat": 4,
 "nbformat_minor": 2
}
